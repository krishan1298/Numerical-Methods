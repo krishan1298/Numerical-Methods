{
  "metadata": {
    "language_info": {
      "codemirror_mode": {
        "name": "python",
        "version": 3
      },
      "file_extension": ".py",
      "mimetype": "text/x-python",
      "name": "python",
      "nbconvert_exporter": "python",
      "pygments_lexer": "ipython3",
      "version": "3.8"
    },
    "kernelspec": {
      "name": "python",
      "display_name": "Python (Pyodide)",
      "language": "python"
    }
  },
  "nbformat_minor": 4,
  "nbformat": 4,
  "cells": [
    {
      "cell_type": "code",
      "source": "import numpy as np\ndef f(x):\n    return x**2*np.log(x)\ndef g(x):\n    return x*np.sin(x)",
      "metadata": {
        "trusted": true
      },
      "execution_count": 7,
      "outputs": []
    },
    {
      "cell_type": "markdown",
      "source": "#### 1. Use the Midpoint rule to approximate the following integrals, and use the error formula to find a bound for the error for each.",
      "metadata": {}
    },
    {
      "cell_type": "code",
      "source": "def mid(a,b,func):\n    return (a+b)*func((a+b)/2)\n\n#Part a\nprint(mid(1,1.5,f))\n#Part b\nprint(mid(0,np.pi/4,g))",
      "metadata": {
        "trusted": true
      },
      "execution_count": 19,
      "outputs": [
        {
          "name": "stdout",
          "text": "0.871654497321132\n0.11802919025920225\n",
          "output_type": "stream"
        }
      ]
    },
    {
      "cell_type": "markdown",
      "source": "#### 2. Repeat problem 1 using the Trapezoidal rule.",
      "metadata": {}
    },
    {
      "cell_type": "code",
      "source": "def trap(a,b,func):\n    return ((func(a)+func(b))/2)*(b-a)\n\n#Part a\nprint(trap(1,1.5,f))\n#Part b\nprint(trap(0,np.pi/4,g))",
      "metadata": {
        "trusted": true
      },
      "execution_count": 15,
      "outputs": [
        {
          "name": "stdout",
          "text": "0.22807412331084248\n0.21808950623871498\n",
          "output_type": "stream"
        }
      ]
    },
    {
      "cell_type": "markdown",
      "source": "#### 3. Repeat problem 1 using Simpson’s rule.",
      "metadata": {}
    },
    {
      "cell_type": "code",
      "source": "def simp(a,b,func):\n    return ((b-a)/6)*(func(a)+4*func((a+b)/2)+func(b))\n\n#Part a\nprint(simp(1,1.5,f))\n#Part b\nprint(simp(0,np.pi/4,g))",
      "metadata": {
        "trusted": true
      },
      "execution_count": 17,
      "outputs": [
        {
          "name": "stdout",
          "text": "0.19224530741309842\n0.1513826289190398\n",
          "output_type": "stream"
        }
      ]
    },
    {
      "cell_type": "markdown",
      "source": "#### 4. Approximate $\\int_0^2 x^2 e^{-x} dx$ using h= 0.25",
      "metadata": {}
    },
    {
      "cell_type": "markdown",
      "source": "##### Part a: Composite Midpoint",
      "metadata": {}
    },
    {
      "cell_type": "code",
      "source": "import math\ndef compmid(a,b,func,h):\n    n=math.ceil((b-a)/h)\n    tot=0\n    for j in range(n):\n        xj = a + (j + 0.5) * h\n        tot+=func(xj)\n    return h*tot\nprint(compmid(1,1.5,f,0.25))",
      "metadata": {
        "trusted": true
      },
      "execution_count": 46,
      "outputs": [
        {
          "name": "stdout",
          "text": "0.18778643497464742\n",
          "output_type": "stream"
        }
      ]
    },
    {
      "cell_type": "code",
      "source": "",
      "metadata": {},
      "execution_count": null,
      "outputs": []
    }
  ]
}