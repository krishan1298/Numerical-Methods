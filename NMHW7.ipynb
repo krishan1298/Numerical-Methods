{
 "cells": [
  {
   "cell_type": "code",
   "execution_count": 4,
   "id": "194c68f5-e885-4485-8917-ffade77f405d",
   "metadata": {},
   "outputs": [
    {
     "name": "stdout",
     "output_type": "stream",
     "text": [
      "[[0. 0. 0.]\n",
      " [0. 0. 0.]\n",
      " [0. 0. 0.]\n",
      " [0. 0. 0.]\n",
      " [0. 0. 0.]]\n"
     ]
    }
   ],
   "source": [
    "import numpy as np\n",
    "def Poisson(A):\n",
    "    return 0\n",
    "\n",
    "A=np.zeros([5,3])\n",
    "A[0,1]=0.5**2\n",
    "A[0,2]=1"
   ]
  },
  {
   "cell_type": "code",
   "execution_count": 12,
   "id": "766989df-4030-45f0-b936-d60e6fbcf0bc",
   "metadata": {},
   "outputs": [
    {
     "name": "stdout",
     "output_type": "stream",
     "text": [
      "[[-16.   4.   0.   0.   0.   0.   0.]\n",
      " [  4. -16.   4.   0.   0.   0.   0.]\n",
      " [  0.   4. -16.   4.   0.   0.   0.]\n",
      " [  0.   0.   4. -16.   4.   0.   0.]\n",
      " [  0.   0.   0.   4. -16.   4.   0.]\n",
      " [  0.   0.   0.   0.   4. -16.   4.]\n",
      " [  0.   0.   0.   0.   0.   4. -16.]]\n",
      "4\n",
      "[0.       0.015625 0.0625   0.140625 0.25     0.390625 0.5625   0.765625\n",
      " 1.       0.0625   1.       1.       1.       1.       1.       1.\n",
      " 1.       0.5625   0.25     1.       1.       1.       1.       1.\n",
      " 1.       1.       0.25     0.5625   1.       1.       1.       1.\n",
      " 1.       1.       1.       0.0625   1.       1.       1.       1.\n",
      " 1.       1.       1.       1.       0.       1.5625   1.       1.\n",
      " 1.       1.       1.       1.       1.       0.0625   2.25     1.\n",
      " 1.       1.       1.       1.       1.       1.       0.25     3.0625\n",
      " 1.       1.       1.       1.       1.       1.       1.       0.5625\n",
      " 0.       0.015625 0.0625   0.140625 0.25     0.390625 0.5625   0.765625\n",
      " 1.      ]\n"
     ]
    }
   ],
   "source": [
    "import numpy as np\n",
    "\n",
    "# Define the dimensions of the matrix\n",
    "N = 9  # Total number of nodes (including boundary nodes)\n",
    "interior_N = N - 2  # Number of interior nodes\n",
    "\n",
    "# Define the coefficient values\n",
    "a = -16  # Diagonal coefficient\n",
    "b = 4   # Off-diagonal coefficient\n",
    "\n",
    "# Create a zeros matrix for the A matrix\n",
    "A = np.zeros((interior_N, interior_N))\n",
    "\n",
    "# Fill in the interior nodes with the coefficient values\n",
    "for i in range(interior_N):\n",
    "    A[i, i] = a\n",
    "    if i > 0:\n",
    "        A[i, i-1] = b\n",
    "    if i < interior_N - 1:\n",
    "        A[i, i+1] = b\n",
    "\n",
    "print(A)\n",
    "print(b)\n",
    "# # Define the boundary values for the problem\n",
    "# u_0 = np.array([0, 1, 0, 1, 4, 1, 9, 4, 16])  # Values along the left and bottom boundaries\n",
    "# u_1 = np.array([1, 0, 1, 0, 9, 4, 16, 9, 0])  # Values along the right and top boundaries\n",
    "\n",
    "# # Solve the system of equations using the boundary values\n",
    "# u_interior = np.linalg.solve(A, -b * np.concatenate((u_0[1:-1], u_1[1:-1])))\n",
    "\n",
    "# # Combine the interior and boundary values into a single solution vector\n",
    "# u = np.concatenate(([u_0[0]], u_interior, [u_1[0]]))\n",
    "\n",
    "# # Print the solution vector\n",
    "# print(u)\n"
   ]
  },
  {
   "cell_type": "code",
   "execution_count": 1,
   "id": "d5307634-a30e-4bdf-9344-5832a06a1e7d",
   "metadata": {},
   "outputs": [],
   "source": [
    "import numpy as np\n",
    "\n",
    "f=lambda x:np.sin(np.pi*x)\n",
    "\n",
    "def CN(L,T,alp,h,k):\n",
    "    m=int(L/h)\n",
    "    n=int(T/h)\n",
    "    lam=alpha**2*k/h**2\n",
    "    w=np.zeros([m+1,N+1])\n",
    "    xs=np.array([i+h for i in range(m+1)])\n",
    "    w[:,0]=f(xs)\n",
    "    l=np.zeros(m)\n",
    "    u=np.zeros(n)\n",
    "    l[1]=1+lam\n",
    "    u[1]=-lam/(2*l[1])\n",
    "    for i in range(2,m-1):\n",
    "        l[i]=1+lam+lam*u[i-1]/2\n",
    "        u[i]=-lam/(2*l[i])\n",
    "    \n",
    "    l[m-1]=1+lam+lam*u[m-2]/2\n",
    "    \n",
    "    z=np.zeros(m)\n",
    "    \n",
    "    for j in range(1,N+1):\n",
    "        t=j*k\n",
    "        z[1]=((1-lam)*w[1,j-1]+lam/2*w[2,j-1])/l[1]\n",
    "        \n",
    "        for i in range(2,m):\n",
    "            z[i]=((1-lam)*w[i,j-1]+lam/2*(w[i+1,j-1]+w[i-1,j-1]+z[i-1]))/l[i]\n",
    "        w[m-1,j]=z[m-1]\n",
    "        for i in range(m-2,0,-1):\n",
    "            w[i,j]=z[i]-u[i]*w[i+1,j-1]\n",
    "    return w\n",
    "\n"
   ]
  },
  {
   "cell_type": "code",
   "execution_count": null,
   "id": "d665c7df-e603-4cb1-ba59-bc991d6e6839",
   "metadata": {},
   "outputs": [],
   "source": []
  }
 ],
 "metadata": {
  "kernelspec": {
   "display_name": "Python 3 (ipykernel)",
   "language": "python",
   "name": "python3"
  },
  "language_info": {
   "codemirror_mode": {
    "name": "ipython",
    "version": 3
   },
   "file_extension": ".py",
   "mimetype": "text/x-python",
   "name": "python",
   "nbconvert_exporter": "python",
   "pygments_lexer": "ipython3",
   "version": "3.9.13"
  }
 },
 "nbformat": 4,
 "nbformat_minor": 5
}
