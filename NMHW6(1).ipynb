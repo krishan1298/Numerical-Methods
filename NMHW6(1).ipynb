{
 "cells": [
  {
   "cell_type": "markdown",
   "id": "51e4ab72-09ab-4e14-90ef-8047ae4f8446",
   "metadata": {},
   "source": [
    "### 1. Use the Gaussian elimination algorithm to solve the following linear systems, if possible."
   ]
  },
  {
   "cell_type": "code",
   "execution_count": 5,
   "id": "cc245f25-d5a0-45e4-969f-e1edd3dec4fd",
   "metadata": {},
   "outputs": [
    {
     "name": "stdout",
     "output_type": "stream",
     "text": [
      "[ 1.26666667 -0.06666667  0.2       ]\n",
      "No unique solution2\n",
      "None\n"
     ]
    }
   ],
   "source": [
    "import numpy as np\n",
    "\n",
    "def GE(A):\n",
    "    n=A.shape[0]\n",
    "    x=np.zeros(n)\n",
    "    for i in range(n):\n",
    "        p=i\n",
    "        while(A[p,i]==0):\n",
    "            p+=1\n",
    "        if(p==n):\n",
    "            print(\"No unique solution1\")\n",
    "            return\n",
    "        if (p!=i):\n",
    "            A[[i,p],:]=A[[p,i],:]\n",
    "        for j in range(i+1,n):\n",
    "            m=A[j,i]/A[i,i]\n",
    "            A[j,:]=A[j,:]-m*A[i,:]\n",
    "        if(A[n-1,n-1]==0):\n",
    "            print(\"No unique solution2\")\n",
    "            return\n",
    "    x[n-1]=A[n-1,n]/A[n-1,n-1]\n",
    "    for i in range(n-2,-1,-1):\n",
    "        x[i]=(A[i,n]-sum(A[i,(i+1):n]*x[(i+1):n]))/A[i,i]\n",
    "    return(x)\n",
    "\n",
    "\n",
    "\n",
    "a=np.array([[1,1,-1,1],[1,1,4,2],[2,-1,2,3]])\n",
    "x=(GE(a))\n",
    "print(x)\n",
    "b=np.array([[2,-3,2,5],[-4,2,-6,14],[2,2,4,8]])\n",
    "\n",
    "x=(GE(b))\n",
    "print(x)\n",
    "\n"
   ]
  },
  {
   "cell_type": "markdown",
   "id": "43995109-0553-469c-aa74-5c3c6dc69974",
   "metadata": {},
   "source": [
    "### 2. Repeat (1) using the partial pivoting algorithm. Note any differences in the results."
   ]
  },
  {
   "cell_type": "code",
   "execution_count": 2,
   "id": "36cad345-7fe8-4570-9e36-73207e35b255",
   "metadata": {},
   "outputs": [
    {
     "name": "stdout",
     "output_type": "stream",
     "text": [
      "[ 1.26666667 -0.06666667  0.2       ]\n",
      "No unique solution2\n",
      "None\n"
     ]
    }
   ],
   "source": [
    "import numpy as np\n",
    "\n",
    "def GE(A):\n",
    "    n=A.shape[0]\n",
    "    x=np.zeros(n)\n",
    "    nrow=np.arange(n)\n",
    "    for i in range(n):\n",
    "        p=i\n",
    "        nrow[i]=i\n",
    "        while(A[p,i]==0):\n",
    "            p+=1\n",
    "        if(p==n):\n",
    "            print(\"No unique solution1\")\n",
    "            return\n",
    "        if (nrow[p]!=nrow[i]):\n",
    "            A[[i,p],:]=A[[p,i],:]\n",
    "        for j in range(i+1,n):\n",
    "            m=A[nrow[j],i]/A[nrow[i],i]\n",
    "            A[nrow[j],:]=A[nrow[j],:]-m*A[nrow[i],:]\n",
    "        if(A[nrow[n-1],n-1]==0):\n",
    "            print(\"No unique solution2\")\n",
    "            return\n",
    "    x[n-1] = A[nrow[n-1], n] / A[nrow[n-1], n-1]\n",
    "    for i in range(n-2, -1, -1):\n",
    "        x[i] = (A[nrow[i], n] - np.sum(A[nrow[i], (i+1):n] * x[(i+1):n])) / A[nrow[i], i]\n",
    "    return x\n",
    "\n",
    "a=np.array([[1,1,-1,1],[1,1,4,2],[2,-1,2,3]])\n",
    "x=(GE(a))\n",
    "print(x)\n",
    "b=np.array([[2,-3,2,5],[-4,2,-6,14],[2,2,4,8]])\n",
    "x=(GE(b))\n",
    "print(x)"
   ]
  },
  {
   "cell_type": "markdown",
   "id": "8cd891ca-f774-4968-a623-38b7451178f6",
   "metadata": {},
   "source": [
    "### 3. Repeat (1) using the scaled partial pivoting algorithm. Note any differences in the results."
   ]
  },
  {
   "cell_type": "code",
   "execution_count": 7,
   "id": "1fe38fd9-aa41-4c7a-b5aa-c7ea9b30b0b3",
   "metadata": {},
   "outputs": [
    {
     "name": "stdout",
     "output_type": "stream",
     "text": [
      "[ 1.26666667 -0.06666667  0.2       ]\n",
      "[109.  27. -66.]\n",
      "Ignore Error, there is no divide by 0 because this code is supposed to return null if s is 0\n"
     ]
    },
    {
     "name": "stderr",
     "output_type": "stream",
     "text": [
      "/var/folders/0_/31jtytdd6cnfrpb7n67kffhw0000gn/T/ipykernel_1103/532997873.py:13: RuntimeWarning: divide by zero encountered in true_divide\n",
      "  mx_row_idx = np.argmax(abs(A[j:, j])/s[j:]) + j\n"
     ]
    }
   ],
   "source": [
    "def GE(A,b):\n",
    "    n=A.shape[0]\n",
    "    A = A.astype(float) \n",
    "    b = b.astype(float)\n",
    "    x=np.zeros(n)\n",
    "    s=np.zeros(n)\n",
    "    for i in range(n):\n",
    "        s[i]=np.max(abs(A[:,i]))\n",
    "        if(s[i]==0):\n",
    "            print(\"No unique solution1\")\n",
    "            return\n",
    "        for j in range(n-1):\n",
    "            mx_row_idx = np.argmax(abs(A[j:, j])/s[j:]) + j\n",
    "            if (mx_row_idx!=j):\n",
    "                A[[j,mx_row_idx]]=A[[mx_row_idx,j]]\n",
    "                b[[j,mx_row_idx]]=b[[mx_row_idx,j]]\n",
    "                s[[j,mx_row_idx]]=s[[mx_row_idx,j]]\n",
    "        for j in range(i+1, n):\n",
    "            factor = A[j, i] / A[i, i]\n",
    "            A[j, i+1:] -= factor * A[i, i+1:]\n",
    "            b[j] -= factor * b[i]\n",
    "        if(A[n-1,n-1]==0):\n",
    "            print(\"No unique solution2\")\n",
    "            return\n",
    "    x = np.zeros(n)\n",
    "    for i in range(n-1, -1, -1):\n",
    "        x[i] = (b[i] - np.dot(A[i, i+1:], x[i+1:])) / A[i, i]\n",
    "    return x\n",
    "\n",
    "a=np.array([[1,1,-1],[1,1,4],[2,-1,2]])\n",
    "b=np.array([1,2,3])\n",
    "x=(GE(a,b))\n",
    "print(x)\n",
    "a1=np.array([[2,-3,2],[-4,2,-6],[2,2,4]])\n",
    "b2=np.array([5,14,8])\n",
    "x=(GE(a1,b2))\n",
    "print(x)\n",
    "print(\"Ignore Error, there is no divide by 0 because this code is supposed to return null if s is 0\")"
   ]
  },
  {
   "cell_type": "markdown",
   "id": "3831e3a6-f32c-4287-8ada-3eb906ed6320",
   "metadata": {},
   "source": [
    "### 4. Use the Jacobi method to solve the following linear systems with T OL = 10−3 in the l∞ norm. Use x(0) = 0."
   ]
  },
  {
   "cell_type": "code",
   "execution_count": 8,
   "id": "7b106773-bf7b-48c4-8af9-ac249eea43f4",
   "metadata": {},
   "outputs": [
    {
     "name": "stdout",
     "output_type": "stream",
     "text": [
      "[ 0.03510079 -0.23663751  0.65812732]\n",
      "[-0.79710581  2.79517067 -0.25939578 -2.25179299]\n"
     ]
    }
   ],
   "source": [
    "import numpy as np\n",
    "import pandas as pd\n",
    "\n",
    "# Jacobi Method\n",
    "def Jacobi(A, b, x0, TOL, Nmax):\n",
    "    k = 1\n",
    "    n = len(A)\n",
    "    x = np.zeros(n)\n",
    "    x0_old = np.copy(x0)\n",
    "    while k <= Nmax:\n",
    "        for i in range(n):\n",
    "            x[i] = 1/A[i,i]*(-np.dot(np.concatenate((A[i,0:i],A[i,i+1:])),np.concatenate((x0_old[0:i],x0_old[i+1:])))+b[i])\n",
    "        if (max(abs(x-x0_old))<TOL):\n",
    "            return x\n",
    "        else:\n",
    "            k += 1\n",
    "            x0_old = np.copy(x)\n",
    "    print(\"Exceeded Nmax\")\n",
    "    \n",
    "a1=np.array([[3,-1,1],[3,6,2],[3,3,7]])\n",
    "b1=np.array([1,0,4])\n",
    "a2=np.array([[10,5,0,0],[5,10,-4,0],[0,-4,8,-1],[0,0,-1,5]])\n",
    "b2=np.array([6,25,-11,-11])\n",
    "p0=[0,0,0]\n",
    "p01=[0,0,0,0]\n",
    "print(Jacobi(a1,b1,p0,0.001,1000))\n",
    "print(Jacobi(a2,b2,p01,0.001,1000))"
   ]
  },
  {
   "cell_type": "markdown",
   "id": "acd0bba7-0378-4789-ba02-6d88dc98cb80",
   "metadata": {},
   "source": [
    "### 5. Repeat problem 1 using the Gauss-Seidel method."
   ]
  },
  {
   "cell_type": "code",
   "execution_count": 3,
   "id": "f7aa2f4f-7f4a-4963-b654-d822b5bfc315",
   "metadata": {},
   "outputs": [
    {
     "name": "stdout",
     "output_type": "stream",
     "text": [
      "Exceeded Nmax\n",
      "None\n",
      "Exceeded Nmax\n",
      "None\n"
     ]
    }
   ],
   "source": [
    "def GS(A,b, TOL, Nmax):\n",
    "    n = len(A)\n",
    "    x = np.zeros(n)\n",
    "    x0 = np.copy(x)\n",
    "    for k in range(Nmax):\n",
    "        for i in range(n):\n",
    "            x[i]=1/A[i,i]*(-np.dot(A[i,:i],x[:i])-np.dot(A[i,i+1:],x0[i+1:])+b[i])\n",
    "        if np.linalg.norm(x-x0,np.inf)<TOL:\n",
    "            return x \n",
    "    else:\n",
    "        x0 = np.copy(x)\n",
    "    print(\"Exceeded Nmax\")\n",
    "a=np.array([[1,1,-1],[1,1,4],[2,-1,2]])\n",
    "b=np.array([1,2,3])\n",
    "a1=np.array([[2,-3,2],[-4,2,-6],[2,2,4]])\n",
    "b1=np.array([5,14,8])\n",
    "print(GS(a,b,10**-3,1000))\n",
    "print(GS(a1,b1,10**-3,1000))"
   ]
  },
  {
   "cell_type": "markdown",
   "id": "df44cca0-4050-49a6-8d75-1c4b1f1fe4b8",
   "metadata": {},
   "source": [
    "### 6. Repeat problem 1 using the SOR method with ω = 1.2."
   ]
  },
  {
   "cell_type": "code",
   "execution_count": 5,
   "id": "6c8a39fa-c890-4354-8030-7dd32470f2f5",
   "metadata": {},
   "outputs": [
    {
     "name": "stdout",
     "output_type": "stream",
     "text": [
      "Exceeded Max\n",
      "None\n",
      "Exceeded Max\n",
      "None\n"
     ]
    }
   ],
   "source": [
    "def SOR(A, b, w, TOL, Nmax):\n",
    "    n=len(A)\n",
    "    k=1\n",
    "    x = np.zeros(n)\n",
    "    x0 = np.copy(x)\n",
    "    while k<=Nmax:\n",
    "        for i in range(n):\n",
    "            x[i]=(1-w)*x0[i]+(1/A[i,i])*(w*(-sum(A[i,j]*x[j] for j in range(i-1))-sum(A[i,j]*x0[j] for j in range(i+1,n))+b[i]))\n",
    "            #print(x[i])\n",
    "            if all(abs(x[i]-x0[i]) < TOL for i in range(n)):\n",
    "                return x \n",
    "            else:\n",
    "                x0 = np.copy(x) \n",
    "        k+=1\n",
    "    print(\"Exceeded Max\")\n",
    "        \n",
    "a=np.array([[1,1,-1],[1,1,4],[2,-1,2]])\n",
    "b=np.array([1,2,3])\n",
    "a1=np.array([[2,-3,2],[-4,2,-6],[2,2,4]])\n",
    "b1=np.array([5,14,8])\n",
    "TOL = 10**(-3)\n",
    "Nmax=30\n",
    "print(SOR(a,b,1.2,TOL,Nmax))\n",
    "print(SOR(a1,b1,1.2,TOL,Nmax))\n",
    "\n",
    "#Chat GPT answer that basically gave me the same output:\n",
    "# def SOR(A, b, w, TOL, Nmax):\n",
    "#     n = len(A)\n",
    "#     k = 1\n",
    "#     x = np.zeros(n)\n",
    "#     x0 = np.copy(x)\n",
    "#     while k <= Nmax:\n",
    "#         for i in range(n):\n",
    "#             x[i] = (1-w)*x0[i] + (w/A[i,i]) * (-sum(A[i,j]*x[j] for j in range(i)) - sum(A[i,j]*x[j] for j in range(i+1, n)) + b[i])\n",
    "#             print(x[i])\n",
    "#         if all(abs(x - x0) < TOL):\n",
    "#             return x\n",
    "#         else:\n",
    "#             x0 = np.copy(x)\n",
    "#         k += 1\n",
    "#     print(\"Exceeded Max\")\n",
    "    \n",
    "# a = np.array([[1, 1, -1], [1, 1, 4], [2, -1, 2]])\n",
    "# b = np.array([1, 2, 3])\n",
    "# a1 = np.array([[2, -3, 2], [-4, 2, -6], [2, 2, 4]])\n",
    "# b1 = np.array([5, 14, 8])\n",
    "# TOL = 10 ** (-3)\n",
    "# Nmax = 30\n",
    "# print(SOR(a, b, 1.2, TOL, Nmax))\n",
    "# print(SOR(a1, b1, 1.2, TOL, Nmax))"
   ]
  },
  {
   "cell_type": "code",
   "execution_count": null,
   "id": "7e93d708-c8fc-4c27-8f23-aa91048d0a7f",
   "metadata": {},
   "outputs": [],
   "source": []
  }
 ],
 "metadata": {
  "kernelspec": {
   "display_name": "Python 3 (ipykernel)",
   "language": "python",
   "name": "python3"
  },
  "language_info": {
   "codemirror_mode": {
    "name": "ipython",
    "version": 3
   },
   "file_extension": ".py",
   "mimetype": "text/x-python",
   "name": "python",
   "nbconvert_exporter": "python",
   "pygments_lexer": "ipython3",
   "version": "3.9.13"
  }
 },
 "nbformat": 4,
 "nbformat_minor": 5
}
